{
 "cells": [
  {
   "cell_type": "markdown",
   "id": "5c7b836d",
   "metadata": {
    "papermill": {
     "duration": 0.005165,
     "end_time": "2025-10-22T15:25:01.151816",
     "exception": false,
     "start_time": "2025-10-22T15:25:01.146651",
     "status": "completed"
    },
    "tags": []
   },
   "source": [
    "# Assessment 1 - Machine Learning\n",
    "# (Exercise 1 - Regression Task)\n",
    "\n",
    "**Kaggle Notebook by Val Kyrvey L. Latoja**"
   ]
  },
  {
   "cell_type": "markdown",
   "id": "bc95e8ee",
   "metadata": {
    "papermill": {
     "duration": 0.004095,
     "end_time": "2025-10-22T15:25:01.160648",
     "exception": false,
     "start_time": "2025-10-22T15:25:01.156553",
     "status": "completed"
    },
    "tags": []
   },
   "source": [
    "**Brief**\n",
    "\n",
    "The student is tasked to do two (2) exercises that will put their fundamental knowledge of machine learning to the test. The data must have a minimum of 5 features (Columns) with no limitation.\n",
    "\n",
    "**Goal**\n",
    "\n",
    "The goal is to complete all tasks and exercises as per the instructions from the [GitHub](https://github.com/usmanahmad11/Experiment-Portfolio/wiki/Machine-Learning-Assignment-1-%E2%80%90-40%25-Instructions) page implemented by the advisor. The student should know the crucial knowledge of machine learning methods and algorithms."
   ]
  },
  {
   "cell_type": "markdown",
   "id": "a32b07e7",
   "metadata": {
    "papermill": {
     "duration": 0.003915,
     "end_time": "2025-10-22T15:25:01.168883",
     "exception": false,
     "start_time": "2025-10-22T15:25:01.164968",
     "status": "completed"
    },
    "tags": []
   },
   "source": [
    "## 1.1 Library/CSV Implementation"
   ]
  },
  {
   "cell_type": "code",
   "execution_count": 1,
   "id": "93c8f384",
   "metadata": {
    "execution": {
     "iopub.execute_input": "2025-10-22T15:25:01.178975Z",
     "iopub.status.busy": "2025-10-22T15:25:01.178474Z",
     "iopub.status.idle": "2025-10-22T15:25:05.534316Z",
     "shell.execute_reply": "2025-10-22T15:25:05.532967Z"
    },
    "papermill": {
     "duration": 4.363161,
     "end_time": "2025-10-22T15:25:05.536256",
     "exception": false,
     "start_time": "2025-10-22T15:25:01.173095",
     "status": "completed"
    },
    "tags": []
   },
   "outputs": [],
   "source": [
    "# Importing Libraries\n",
    "\n",
    "import pandas as pd\n",
    "import numpy as np\n",
    "import matplotlib.pyplot as plt\n",
    "import seaborn as sns\n",
    "\n",
    "from sklearn.preprocessing import MinMaxScaler\n",
    "from sklearn.model_selection import train_test_split\n",
    "from sklearn.linear_model import LinearRegression\n",
    "from sklearn.metrics import mean_absolute_error, mean_squared_error, r2_score\n",
    "from sklearn.model_selection import cross_val_score\n",
    "\n",
    "import warnings\n",
    "warnings.filterwarnings('ignore') # ignore warnings from plots\n",
    "\n",
    "# Data Selection\n",
    "data = pd.read_csv(\"/kaggle/input/video-games-sales/video_games_sales.csv\", nrows=1000)"
   ]
  },
  {
   "cell_type": "markdown",
   "id": "d58937d0",
   "metadata": {
    "papermill": {
     "duration": 0.004208,
     "end_time": "2025-10-22T15:25:05.545093",
     "exception": false,
     "start_time": "2025-10-22T15:25:05.540885",
     "status": "completed"
    },
    "tags": []
   },
   "source": [
    "## 1.2 Data Gathering & Cleaning"
   ]
  },
  {
   "cell_type": "code",
   "execution_count": 2,
   "id": "baff1c10",
   "metadata": {
    "execution": {
     "iopub.execute_input": "2025-10-22T15:25:05.555639Z",
     "iopub.status.busy": "2025-10-22T15:25:05.554769Z",
     "iopub.status.idle": "2025-10-22T15:25:05.587624Z",
     "shell.execute_reply": "2025-10-22T15:25:05.586491Z"
    },
    "papermill": {
     "duration": 0.040061,
     "end_time": "2025-10-22T15:25:05.589384",
     "exception": false,
     "start_time": "2025-10-22T15:25:05.549323",
     "status": "completed"
    },
    "tags": []
   },
   "outputs": [
    {
     "data": {
      "text/html": [
       "<div>\n",
       "<style scoped>\n",
       "    .dataframe tbody tr th:only-of-type {\n",
       "        vertical-align: middle;\n",
       "    }\n",
       "\n",
       "    .dataframe tbody tr th {\n",
       "        vertical-align: top;\n",
       "    }\n",
       "\n",
       "    .dataframe thead th {\n",
       "        text-align: right;\n",
       "    }\n",
       "</style>\n",
       "<table border=\"1\" class=\"dataframe\">\n",
       "  <thead>\n",
       "    <tr style=\"text-align: right;\">\n",
       "      <th></th>\n",
       "      <th>rank</th>\n",
       "      <th>name</th>\n",
       "      <th>platform</th>\n",
       "      <th>year</th>\n",
       "      <th>genre</th>\n",
       "      <th>publisher</th>\n",
       "      <th>na_sales</th>\n",
       "      <th>eu_sales</th>\n",
       "      <th>jp_sales</th>\n",
       "      <th>other_sales</th>\n",
       "      <th>global_sales</th>\n",
       "    </tr>\n",
       "  </thead>\n",
       "  <tbody>\n",
       "    <tr>\n",
       "      <th>0</th>\n",
       "      <td>1</td>\n",
       "      <td>Wii Sports</td>\n",
       "      <td>Wii</td>\n",
       "      <td>2006.0</td>\n",
       "      <td>Sports</td>\n",
       "      <td>Nintendo</td>\n",
       "      <td>41.49</td>\n",
       "      <td>29.02</td>\n",
       "      <td>3.77</td>\n",
       "      <td>8.46</td>\n",
       "      <td>82.74</td>\n",
       "    </tr>\n",
       "    <tr>\n",
       "      <th>1</th>\n",
       "      <td>2</td>\n",
       "      <td>Super Mario Bros.</td>\n",
       "      <td>NES</td>\n",
       "      <td>1985.0</td>\n",
       "      <td>Platform</td>\n",
       "      <td>Nintendo</td>\n",
       "      <td>29.08</td>\n",
       "      <td>3.58</td>\n",
       "      <td>6.81</td>\n",
       "      <td>0.77</td>\n",
       "      <td>40.24</td>\n",
       "    </tr>\n",
       "    <tr>\n",
       "      <th>2</th>\n",
       "      <td>3</td>\n",
       "      <td>Mario Kart Wii</td>\n",
       "      <td>Wii</td>\n",
       "      <td>2008.0</td>\n",
       "      <td>Racing</td>\n",
       "      <td>Nintendo</td>\n",
       "      <td>15.85</td>\n",
       "      <td>12.88</td>\n",
       "      <td>3.79</td>\n",
       "      <td>3.31</td>\n",
       "      <td>35.82</td>\n",
       "    </tr>\n",
       "    <tr>\n",
       "      <th>3</th>\n",
       "      <td>4</td>\n",
       "      <td>Wii Sports Resort</td>\n",
       "      <td>Wii</td>\n",
       "      <td>2009.0</td>\n",
       "      <td>Sports</td>\n",
       "      <td>Nintendo</td>\n",
       "      <td>15.75</td>\n",
       "      <td>11.01</td>\n",
       "      <td>3.28</td>\n",
       "      <td>2.96</td>\n",
       "      <td>33.00</td>\n",
       "    </tr>\n",
       "    <tr>\n",
       "      <th>4</th>\n",
       "      <td>5</td>\n",
       "      <td>Pokemon Red/Pokemon Blue</td>\n",
       "      <td>GB</td>\n",
       "      <td>1996.0</td>\n",
       "      <td>Role-Playing</td>\n",
       "      <td>Nintendo</td>\n",
       "      <td>11.27</td>\n",
       "      <td>8.89</td>\n",
       "      <td>10.22</td>\n",
       "      <td>1.00</td>\n",
       "      <td>31.37</td>\n",
       "    </tr>\n",
       "    <tr>\n",
       "      <th>5</th>\n",
       "      <td>6</td>\n",
       "      <td>Tetris</td>\n",
       "      <td>GB</td>\n",
       "      <td>1989.0</td>\n",
       "      <td>Puzzle</td>\n",
       "      <td>Nintendo</td>\n",
       "      <td>23.20</td>\n",
       "      <td>2.26</td>\n",
       "      <td>4.22</td>\n",
       "      <td>0.58</td>\n",
       "      <td>30.26</td>\n",
       "    </tr>\n",
       "    <tr>\n",
       "      <th>6</th>\n",
       "      <td>7</td>\n",
       "      <td>New Super Mario Bros.</td>\n",
       "      <td>DS</td>\n",
       "      <td>2006.0</td>\n",
       "      <td>Platform</td>\n",
       "      <td>Nintendo</td>\n",
       "      <td>11.38</td>\n",
       "      <td>9.23</td>\n",
       "      <td>6.50</td>\n",
       "      <td>2.90</td>\n",
       "      <td>30.01</td>\n",
       "    </tr>\n",
       "    <tr>\n",
       "      <th>7</th>\n",
       "      <td>8</td>\n",
       "      <td>Wii Play</td>\n",
       "      <td>Wii</td>\n",
       "      <td>2006.0</td>\n",
       "      <td>Misc</td>\n",
       "      <td>Nintendo</td>\n",
       "      <td>14.03</td>\n",
       "      <td>9.20</td>\n",
       "      <td>2.93</td>\n",
       "      <td>2.85</td>\n",
       "      <td>29.02</td>\n",
       "    </tr>\n",
       "    <tr>\n",
       "      <th>8</th>\n",
       "      <td>9</td>\n",
       "      <td>New Super Mario Bros. Wii</td>\n",
       "      <td>Wii</td>\n",
       "      <td>2009.0</td>\n",
       "      <td>Platform</td>\n",
       "      <td>Nintendo</td>\n",
       "      <td>14.59</td>\n",
       "      <td>7.06</td>\n",
       "      <td>4.70</td>\n",
       "      <td>2.26</td>\n",
       "      <td>28.62</td>\n",
       "    </tr>\n",
       "    <tr>\n",
       "      <th>9</th>\n",
       "      <td>10</td>\n",
       "      <td>Duck Hunt</td>\n",
       "      <td>NES</td>\n",
       "      <td>1984.0</td>\n",
       "      <td>Shooter</td>\n",
       "      <td>Nintendo</td>\n",
       "      <td>26.93</td>\n",
       "      <td>0.63</td>\n",
       "      <td>0.28</td>\n",
       "      <td>0.47</td>\n",
       "      <td>28.31</td>\n",
       "    </tr>\n",
       "  </tbody>\n",
       "</table>\n",
       "</div>"
      ],
      "text/plain": [
       "   rank                       name platform    year         genre publisher  \\\n",
       "0     1                 Wii Sports      Wii  2006.0        Sports  Nintendo   \n",
       "1     2          Super Mario Bros.      NES  1985.0      Platform  Nintendo   \n",
       "2     3             Mario Kart Wii      Wii  2008.0        Racing  Nintendo   \n",
       "3     4          Wii Sports Resort      Wii  2009.0        Sports  Nintendo   \n",
       "4     5   Pokemon Red/Pokemon Blue       GB  1996.0  Role-Playing  Nintendo   \n",
       "5     6                     Tetris       GB  1989.0        Puzzle  Nintendo   \n",
       "6     7      New Super Mario Bros.       DS  2006.0      Platform  Nintendo   \n",
       "7     8                   Wii Play      Wii  2006.0          Misc  Nintendo   \n",
       "8     9  New Super Mario Bros. Wii      Wii  2009.0      Platform  Nintendo   \n",
       "9    10                  Duck Hunt      NES  1984.0       Shooter  Nintendo   \n",
       "\n",
       "   na_sales  eu_sales  jp_sales  other_sales  global_sales  \n",
       "0     41.49     29.02      3.77         8.46         82.74  \n",
       "1     29.08      3.58      6.81         0.77         40.24  \n",
       "2     15.85     12.88      3.79         3.31         35.82  \n",
       "3     15.75     11.01      3.28         2.96         33.00  \n",
       "4     11.27      8.89     10.22         1.00         31.37  \n",
       "5     23.20      2.26      4.22         0.58         30.26  \n",
       "6     11.38      9.23      6.50         2.90         30.01  \n",
       "7     14.03      9.20      2.93         2.85         29.02  \n",
       "8     14.59      7.06      4.70         2.26         28.62  \n",
       "9     26.93      0.63      0.28         0.47         28.31  "
      ]
     },
     "execution_count": 2,
     "metadata": {},
     "output_type": "execute_result"
    }
   ],
   "source": [
    "data.head(10) # First 10 data rows"
   ]
  },
  {
   "cell_type": "code",
   "execution_count": 3,
   "id": "2e8aa150",
   "metadata": {
    "execution": {
     "iopub.execute_input": "2025-10-22T15:25:05.600366Z",
     "iopub.status.busy": "2025-10-22T15:25:05.600041Z",
     "iopub.status.idle": "2025-10-22T15:25:05.616438Z",
     "shell.execute_reply": "2025-10-22T15:25:05.615581Z"
    },
    "papermill": {
     "duration": 0.023551,
     "end_time": "2025-10-22T15:25:05.617963",
     "exception": false,
     "start_time": "2025-10-22T15:25:05.594412",
     "status": "completed"
    },
    "tags": []
   },
   "outputs": [
    {
     "data": {
      "text/html": [
       "<div>\n",
       "<style scoped>\n",
       "    .dataframe tbody tr th:only-of-type {\n",
       "        vertical-align: middle;\n",
       "    }\n",
       "\n",
       "    .dataframe tbody tr th {\n",
       "        vertical-align: top;\n",
       "    }\n",
       "\n",
       "    .dataframe thead th {\n",
       "        text-align: right;\n",
       "    }\n",
       "</style>\n",
       "<table border=\"1\" class=\"dataframe\">\n",
       "  <thead>\n",
       "    <tr style=\"text-align: right;\">\n",
       "      <th></th>\n",
       "      <th>rank</th>\n",
       "      <th>name</th>\n",
       "      <th>platform</th>\n",
       "      <th>year</th>\n",
       "      <th>genre</th>\n",
       "      <th>publisher</th>\n",
       "      <th>na_sales</th>\n",
       "      <th>eu_sales</th>\n",
       "      <th>jp_sales</th>\n",
       "      <th>other_sales</th>\n",
       "      <th>global_sales</th>\n",
       "    </tr>\n",
       "  </thead>\n",
       "  <tbody>\n",
       "    <tr>\n",
       "      <th>990</th>\n",
       "      <td>992</td>\n",
       "      <td>Golden Sun</td>\n",
       "      <td>GBA</td>\n",
       "      <td>2001.0</td>\n",
       "      <td>Role-Playing</td>\n",
       "      <td>Nintendo</td>\n",
       "      <td>0.93</td>\n",
       "      <td>0.38</td>\n",
       "      <td>0.40</td>\n",
       "      <td>0.06</td>\n",
       "      <td>1.76</td>\n",
       "    </tr>\n",
       "    <tr>\n",
       "      <th>991</th>\n",
       "      <td>993</td>\n",
       "      <td>Sonic the Hedgehog 3</td>\n",
       "      <td>GEN</td>\n",
       "      <td>1994.0</td>\n",
       "      <td>Platform</td>\n",
       "      <td>Sega</td>\n",
       "      <td>1.02</td>\n",
       "      <td>0.47</td>\n",
       "      <td>0.20</td>\n",
       "      <td>0.07</td>\n",
       "      <td>1.76</td>\n",
       "    </tr>\n",
       "    <tr>\n",
       "      <th>992</th>\n",
       "      <td>994</td>\n",
       "      <td>Kid Icarus</td>\n",
       "      <td>NES</td>\n",
       "      <td>1986.0</td>\n",
       "      <td>Platform</td>\n",
       "      <td>Nintendo</td>\n",
       "      <td>0.53</td>\n",
       "      <td>0.12</td>\n",
       "      <td>1.09</td>\n",
       "      <td>0.02</td>\n",
       "      <td>1.76</td>\n",
       "    </tr>\n",
       "    <tr>\n",
       "      <th>993</th>\n",
       "      <td>995</td>\n",
       "      <td>Def Jam: Fight for NY</td>\n",
       "      <td>PS2</td>\n",
       "      <td>2004.0</td>\n",
       "      <td>Fighting</td>\n",
       "      <td>Electronic Arts</td>\n",
       "      <td>0.86</td>\n",
       "      <td>0.67</td>\n",
       "      <td>0.00</td>\n",
       "      <td>0.22</td>\n",
       "      <td>1.76</td>\n",
       "    </tr>\n",
       "    <tr>\n",
       "      <th>994</th>\n",
       "      <td>996</td>\n",
       "      <td>Tom Clancy's Ghost Recon</td>\n",
       "      <td>XB</td>\n",
       "      <td>2002.0</td>\n",
       "      <td>Shooter</td>\n",
       "      <td>Ubisoft</td>\n",
       "      <td>1.23</td>\n",
       "      <td>0.46</td>\n",
       "      <td>0.00</td>\n",
       "      <td>0.07</td>\n",
       "      <td>1.76</td>\n",
       "    </tr>\n",
       "    <tr>\n",
       "      <th>995</th>\n",
       "      <td>997</td>\n",
       "      <td>State of Emergency</td>\n",
       "      <td>PS2</td>\n",
       "      <td>2002.0</td>\n",
       "      <td>Action</td>\n",
       "      <td>Take-Two Interactive</td>\n",
       "      <td>0.86</td>\n",
       "      <td>0.67</td>\n",
       "      <td>0.00</td>\n",
       "      <td>0.22</td>\n",
       "      <td>1.76</td>\n",
       "    </tr>\n",
       "    <tr>\n",
       "      <th>996</th>\n",
       "      <td>998</td>\n",
       "      <td>BioShock Infinite</td>\n",
       "      <td>PS3</td>\n",
       "      <td>2013.0</td>\n",
       "      <td>Shooter</td>\n",
       "      <td>Take-Two Interactive</td>\n",
       "      <td>0.72</td>\n",
       "      <td>0.69</td>\n",
       "      <td>0.04</td>\n",
       "      <td>0.31</td>\n",
       "      <td>1.76</td>\n",
       "    </tr>\n",
       "    <tr>\n",
       "      <th>997</th>\n",
       "      <td>999</td>\n",
       "      <td>Hitman: Absolution</td>\n",
       "      <td>X360</td>\n",
       "      <td>2012.0</td>\n",
       "      <td>Action</td>\n",
       "      <td>Square Enix</td>\n",
       "      <td>0.68</td>\n",
       "      <td>0.90</td>\n",
       "      <td>0.01</td>\n",
       "      <td>0.17</td>\n",
       "      <td>1.76</td>\n",
       "    </tr>\n",
       "    <tr>\n",
       "      <th>998</th>\n",
       "      <td>1000</td>\n",
       "      <td>2 Games in 1 Double Pack: The Incredibles / Fi...</td>\n",
       "      <td>GBA</td>\n",
       "      <td>2007.0</td>\n",
       "      <td>Action</td>\n",
       "      <td>THQ</td>\n",
       "      <td>1.26</td>\n",
       "      <td>0.47</td>\n",
       "      <td>0.00</td>\n",
       "      <td>0.03</td>\n",
       "      <td>1.76</td>\n",
       "    </tr>\n",
       "    <tr>\n",
       "      <th>999</th>\n",
       "      <td>1001</td>\n",
       "      <td>Call of Duty: Black Ops 3</td>\n",
       "      <td>X360</td>\n",
       "      <td>2015.0</td>\n",
       "      <td>Shooter</td>\n",
       "      <td>Activision</td>\n",
       "      <td>1.11</td>\n",
       "      <td>0.48</td>\n",
       "      <td>0.00</td>\n",
       "      <td>0.16</td>\n",
       "      <td>1.76</td>\n",
       "    </tr>\n",
       "  </tbody>\n",
       "</table>\n",
       "</div>"
      ],
      "text/plain": [
       "     rank                                               name platform    year  \\\n",
       "990   992                                         Golden Sun      GBA  2001.0   \n",
       "991   993                               Sonic the Hedgehog 3      GEN  1994.0   \n",
       "992   994                                         Kid Icarus      NES  1986.0   \n",
       "993   995                              Def Jam: Fight for NY      PS2  2004.0   \n",
       "994   996                           Tom Clancy's Ghost Recon       XB  2002.0   \n",
       "995   997                                 State of Emergency      PS2  2002.0   \n",
       "996   998                                  BioShock Infinite      PS3  2013.0   \n",
       "997   999                                 Hitman: Absolution     X360  2012.0   \n",
       "998  1000  2 Games in 1 Double Pack: The Incredibles / Fi...      GBA  2007.0   \n",
       "999  1001                          Call of Duty: Black Ops 3     X360  2015.0   \n",
       "\n",
       "            genre             publisher  na_sales  eu_sales  jp_sales  \\\n",
       "990  Role-Playing              Nintendo      0.93      0.38      0.40   \n",
       "991      Platform                  Sega      1.02      0.47      0.20   \n",
       "992      Platform              Nintendo      0.53      0.12      1.09   \n",
       "993      Fighting       Electronic Arts      0.86      0.67      0.00   \n",
       "994       Shooter               Ubisoft      1.23      0.46      0.00   \n",
       "995        Action  Take-Two Interactive      0.86      0.67      0.00   \n",
       "996       Shooter  Take-Two Interactive      0.72      0.69      0.04   \n",
       "997        Action           Square Enix      0.68      0.90      0.01   \n",
       "998        Action                   THQ      1.26      0.47      0.00   \n",
       "999       Shooter            Activision      1.11      0.48      0.00   \n",
       "\n",
       "     other_sales  global_sales  \n",
       "990         0.06          1.76  \n",
       "991         0.07          1.76  \n",
       "992         0.02          1.76  \n",
       "993         0.22          1.76  \n",
       "994         0.07          1.76  \n",
       "995         0.22          1.76  \n",
       "996         0.31          1.76  \n",
       "997         0.17          1.76  \n",
       "998         0.03          1.76  \n",
       "999         0.16          1.76  "
      ]
     },
     "execution_count": 3,
     "metadata": {},
     "output_type": "execute_result"
    }
   ],
   "source": [
    "data.tail(10) # Last 10 data rows"
   ]
  },
  {
   "cell_type": "code",
   "execution_count": 4,
   "id": "3eb5f590",
   "metadata": {
    "execution": {
     "iopub.execute_input": "2025-10-22T15:25:05.629660Z",
     "iopub.status.busy": "2025-10-22T15:25:05.629281Z",
     "iopub.status.idle": "2025-10-22T15:25:05.655353Z",
     "shell.execute_reply": "2025-10-22T15:25:05.654159Z"
    },
    "papermill": {
     "duration": 0.033613,
     "end_time": "2025-10-22T15:25:05.656827",
     "exception": false,
     "start_time": "2025-10-22T15:25:05.623214",
     "status": "completed"
    },
    "tags": []
   },
   "outputs": [
    {
     "name": "stdout",
     "output_type": "stream",
     "text": [
      "<class 'pandas.core.frame.DataFrame'>\n",
      "RangeIndex: 1000 entries, 0 to 999\n",
      "Data columns (total 11 columns):\n",
      " #   Column        Non-Null Count  Dtype  \n",
      "---  ------        --------------  -----  \n",
      " 0   rank          1000 non-null   int64  \n",
      " 1   name          1000 non-null   object \n",
      " 2   platform      1000 non-null   object \n",
      " 3   year          990 non-null    float64\n",
      " 4   genre         1000 non-null   object \n",
      " 5   publisher     999 non-null    object \n",
      " 6   na_sales      1000 non-null   float64\n",
      " 7   eu_sales      1000 non-null   float64\n",
      " 8   jp_sales      1000 non-null   float64\n",
      " 9   other_sales   1000 non-null   float64\n",
      " 10  global_sales  1000 non-null   float64\n",
      "dtypes: float64(6), int64(1), object(4)\n",
      "memory usage: 86.1+ KB\n"
     ]
    }
   ],
   "source": [
    "data.info() # Gathering info by which types our dataset provides"
   ]
  },
  {
   "cell_type": "code",
   "execution_count": 5,
   "id": "5ec7ed71",
   "metadata": {
    "execution": {
     "iopub.execute_input": "2025-10-22T15:25:05.668418Z",
     "iopub.status.busy": "2025-10-22T15:25:05.668068Z",
     "iopub.status.idle": "2025-10-22T15:25:05.705644Z",
     "shell.execute_reply": "2025-10-22T15:25:05.704579Z"
    },
    "papermill": {
     "duration": 0.045266,
     "end_time": "2025-10-22T15:25:05.707316",
     "exception": false,
     "start_time": "2025-10-22T15:25:05.662050",
     "status": "completed"
    },
    "tags": []
   },
   "outputs": [
    {
     "data": {
      "text/html": [
       "<div>\n",
       "<style scoped>\n",
       "    .dataframe tbody tr th:only-of-type {\n",
       "        vertical-align: middle;\n",
       "    }\n",
       "\n",
       "    .dataframe tbody tr th {\n",
       "        vertical-align: top;\n",
       "    }\n",
       "\n",
       "    .dataframe thead th {\n",
       "        text-align: right;\n",
       "    }\n",
       "</style>\n",
       "<table border=\"1\" class=\"dataframe\">\n",
       "  <thead>\n",
       "    <tr style=\"text-align: right;\">\n",
       "      <th></th>\n",
       "      <th>rank</th>\n",
       "      <th>year</th>\n",
       "      <th>na_sales</th>\n",
       "      <th>eu_sales</th>\n",
       "      <th>jp_sales</th>\n",
       "      <th>other_sales</th>\n",
       "      <th>global_sales</th>\n",
       "    </tr>\n",
       "  </thead>\n",
       "  <tbody>\n",
       "    <tr>\n",
       "      <th>count</th>\n",
       "      <td>1000.000000</td>\n",
       "      <td>990.000000</td>\n",
       "      <td>1000.000000</td>\n",
       "      <td>1000.000000</td>\n",
       "      <td>1000.000000</td>\n",
       "      <td>1000.000000</td>\n",
       "      <td>1000.000000</td>\n",
       "    </tr>\n",
       "    <tr>\n",
       "      <th>mean</th>\n",
       "      <td>500.847000</td>\n",
       "      <td>2004.862626</td>\n",
       "      <td>2.079090</td>\n",
       "      <td>1.258700</td>\n",
       "      <td>0.550780</td>\n",
       "      <td>0.400740</td>\n",
       "      <td>4.289180</td>\n",
       "    </tr>\n",
       "    <tr>\n",
       "      <th>std</th>\n",
       "      <td>289.212225</td>\n",
       "      <td>7.236669</td>\n",
       "      <td>2.616129</td>\n",
       "      <td>1.623482</td>\n",
       "      <td>1.038156</td>\n",
       "      <td>0.643864</td>\n",
       "      <td>4.814629</td>\n",
       "    </tr>\n",
       "    <tr>\n",
       "      <th>min</th>\n",
       "      <td>1.000000</td>\n",
       "      <td>1980.000000</td>\n",
       "      <td>0.000000</td>\n",
       "      <td>0.000000</td>\n",
       "      <td>0.000000</td>\n",
       "      <td>0.000000</td>\n",
       "      <td>1.760000</td>\n",
       "    </tr>\n",
       "    <tr>\n",
       "      <th>25%</th>\n",
       "      <td>250.750000</td>\n",
       "      <td>2001.000000</td>\n",
       "      <td>0.977500</td>\n",
       "      <td>0.490000</td>\n",
       "      <td>0.000000</td>\n",
       "      <td>0.130000</td>\n",
       "      <td>2.180000</td>\n",
       "    </tr>\n",
       "    <tr>\n",
       "      <th>50%</th>\n",
       "      <td>500.500000</td>\n",
       "      <td>2006.000000</td>\n",
       "      <td>1.500000</td>\n",
       "      <td>0.900000</td>\n",
       "      <td>0.075000</td>\n",
       "      <td>0.240000</td>\n",
       "      <td>2.890000</td>\n",
       "    </tr>\n",
       "    <tr>\n",
       "      <th>75%</th>\n",
       "      <td>751.250000</td>\n",
       "      <td>2010.000000</td>\n",
       "      <td>2.235000</td>\n",
       "      <td>1.470000</td>\n",
       "      <td>0.665000</td>\n",
       "      <td>0.440000</td>\n",
       "      <td>4.390000</td>\n",
       "    </tr>\n",
       "    <tr>\n",
       "      <th>max</th>\n",
       "      <td>1001.000000</td>\n",
       "      <td>2016.000000</td>\n",
       "      <td>41.490000</td>\n",
       "      <td>29.020000</td>\n",
       "      <td>10.220000</td>\n",
       "      <td>10.570000</td>\n",
       "      <td>82.740000</td>\n",
       "    </tr>\n",
       "  </tbody>\n",
       "</table>\n",
       "</div>"
      ],
      "text/plain": [
       "              rank         year     na_sales     eu_sales     jp_sales  \\\n",
       "count  1000.000000   990.000000  1000.000000  1000.000000  1000.000000   \n",
       "mean    500.847000  2004.862626     2.079090     1.258700     0.550780   \n",
       "std     289.212225     7.236669     2.616129     1.623482     1.038156   \n",
       "min       1.000000  1980.000000     0.000000     0.000000     0.000000   \n",
       "25%     250.750000  2001.000000     0.977500     0.490000     0.000000   \n",
       "50%     500.500000  2006.000000     1.500000     0.900000     0.075000   \n",
       "75%     751.250000  2010.000000     2.235000     1.470000     0.665000   \n",
       "max    1001.000000  2016.000000    41.490000    29.020000    10.220000   \n",
       "\n",
       "       other_sales  global_sales  \n",
       "count  1000.000000   1000.000000  \n",
       "mean      0.400740      4.289180  \n",
       "std       0.643864      4.814629  \n",
       "min       0.000000      1.760000  \n",
       "25%       0.130000      2.180000  \n",
       "50%       0.240000      2.890000  \n",
       "75%       0.440000      4.390000  \n",
       "max      10.570000     82.740000  "
      ]
     },
     "execution_count": 5,
     "metadata": {},
     "output_type": "execute_result"
    }
   ],
   "source": [
    "data.describe() # Shows statistical data such as the avergage (mean), standard deviation (std), minimum & maximum"
   ]
  },
  {
   "cell_type": "code",
   "execution_count": 6,
   "id": "359a4246",
   "metadata": {
    "execution": {
     "iopub.execute_input": "2025-10-22T15:25:05.719864Z",
     "iopub.status.busy": "2025-10-22T15:25:05.718748Z",
     "iopub.status.idle": "2025-10-22T15:25:05.726759Z",
     "shell.execute_reply": "2025-10-22T15:25:05.725937Z"
    },
    "papermill": {
     "duration": 0.015662,
     "end_time": "2025-10-22T15:25:05.728342",
     "exception": false,
     "start_time": "2025-10-22T15:25:05.712680",
     "status": "completed"
    },
    "tags": []
   },
   "outputs": [
    {
     "data": {
      "text/plain": [
       "rank             0\n",
       "name             0\n",
       "platform         0\n",
       "year            10\n",
       "genre            0\n",
       "publisher        1\n",
       "na_sales         0\n",
       "eu_sales         0\n",
       "jp_sales         0\n",
       "other_sales      0\n",
       "global_sales     0\n",
       "dtype: int64"
      ]
     },
     "execution_count": 6,
     "metadata": {},
     "output_type": "execute_result"
    }
   ],
   "source": [
    "data.isnull().sum() # Detects nullified data"
   ]
  },
  {
   "cell_type": "code",
   "execution_count": 7,
   "id": "9633f3b5",
   "metadata": {
    "execution": {
     "iopub.execute_input": "2025-10-22T15:25:05.740212Z",
     "iopub.status.busy": "2025-10-22T15:25:05.739835Z",
     "iopub.status.idle": "2025-10-22T15:25:05.754608Z",
     "shell.execute_reply": "2025-10-22T15:25:05.753189Z"
    },
    "papermill": {
     "duration": 0.022482,
     "end_time": "2025-10-22T15:25:05.756150",
     "exception": false,
     "start_time": "2025-10-22T15:25:05.733668",
     "status": "completed"
    },
    "tags": []
   },
   "outputs": [
    {
     "data": {
      "text/plain": [
       "rank            0\n",
       "platform        0\n",
       "year            0\n",
       "genre           0\n",
       "na_sales        0\n",
       "eu_sales        0\n",
       "jp_sales        0\n",
       "other_sales     0\n",
       "global_sales    0\n",
       "dtype: int64"
      ]
     },
     "execution_count": 7,
     "metadata": {},
     "output_type": "execute_result"
    }
   ],
   "source": [
    "data = data.dropna() # Removes unnecessary data\n",
    "data = data.drop(['name', 'publisher'], axis = 1) # Drops any unneccessary features that won't be used inside the model.\n",
    "data.isnull().sum()"
   ]
  },
  {
   "cell_type": "code",
   "execution_count": 8,
   "id": "8593589b",
   "metadata": {
    "execution": {
     "iopub.execute_input": "2025-10-22T15:25:05.768413Z",
     "iopub.status.busy": "2025-10-22T15:25:05.768043Z",
     "iopub.status.idle": "2025-10-22T15:25:05.781864Z",
     "shell.execute_reply": "2025-10-22T15:25:05.780743Z"
    },
    "papermill": {
     "duration": 0.021773,
     "end_time": "2025-10-22T15:25:05.783481",
     "exception": false,
     "start_time": "2025-10-22T15:25:05.761708",
     "status": "completed"
    },
    "tags": []
   },
   "outputs": [
    {
     "data": {
      "text/html": [
       "<div>\n",
       "<style scoped>\n",
       "    .dataframe tbody tr th:only-of-type {\n",
       "        vertical-align: middle;\n",
       "    }\n",
       "\n",
       "    .dataframe tbody tr th {\n",
       "        vertical-align: top;\n",
       "    }\n",
       "\n",
       "    .dataframe thead th {\n",
       "        text-align: right;\n",
       "    }\n",
       "</style>\n",
       "<table border=\"1\" class=\"dataframe\">\n",
       "  <thead>\n",
       "    <tr style=\"text-align: right;\">\n",
       "      <th></th>\n",
       "      <th>rank</th>\n",
       "      <th>platform</th>\n",
       "      <th>year</th>\n",
       "      <th>genre</th>\n",
       "      <th>na_sales</th>\n",
       "      <th>eu_sales</th>\n",
       "      <th>jp_sales</th>\n",
       "      <th>other_sales</th>\n",
       "      <th>global_sales</th>\n",
       "    </tr>\n",
       "  </thead>\n",
       "  <tbody>\n",
       "    <tr>\n",
       "      <th>0</th>\n",
       "      <td>1</td>\n",
       "      <td>Wii</td>\n",
       "      <td>2006.0</td>\n",
       "      <td>Sports</td>\n",
       "      <td>41.49</td>\n",
       "      <td>29.02</td>\n",
       "      <td>3.77</td>\n",
       "      <td>8.46</td>\n",
       "      <td>82.74</td>\n",
       "    </tr>\n",
       "    <tr>\n",
       "      <th>1</th>\n",
       "      <td>2</td>\n",
       "      <td>NES</td>\n",
       "      <td>1985.0</td>\n",
       "      <td>Platform</td>\n",
       "      <td>29.08</td>\n",
       "      <td>3.58</td>\n",
       "      <td>6.81</td>\n",
       "      <td>0.77</td>\n",
       "      <td>40.24</td>\n",
       "    </tr>\n",
       "    <tr>\n",
       "      <th>2</th>\n",
       "      <td>3</td>\n",
       "      <td>Wii</td>\n",
       "      <td>2008.0</td>\n",
       "      <td>Racing</td>\n",
       "      <td>15.85</td>\n",
       "      <td>12.88</td>\n",
       "      <td>3.79</td>\n",
       "      <td>3.31</td>\n",
       "      <td>35.82</td>\n",
       "    </tr>\n",
       "    <tr>\n",
       "      <th>3</th>\n",
       "      <td>4</td>\n",
       "      <td>Wii</td>\n",
       "      <td>2009.0</td>\n",
       "      <td>Sports</td>\n",
       "      <td>15.75</td>\n",
       "      <td>11.01</td>\n",
       "      <td>3.28</td>\n",
       "      <td>2.96</td>\n",
       "      <td>33.00</td>\n",
       "    </tr>\n",
       "    <tr>\n",
       "      <th>4</th>\n",
       "      <td>5</td>\n",
       "      <td>GB</td>\n",
       "      <td>1996.0</td>\n",
       "      <td>Role-Playing</td>\n",
       "      <td>11.27</td>\n",
       "      <td>8.89</td>\n",
       "      <td>10.22</td>\n",
       "      <td>1.00</td>\n",
       "      <td>31.37</td>\n",
       "    </tr>\n",
       "  </tbody>\n",
       "</table>\n",
       "</div>"
      ],
      "text/plain": [
       "   rank platform    year         genre  na_sales  eu_sales  jp_sales  \\\n",
       "0     1      Wii  2006.0        Sports     41.49     29.02      3.77   \n",
       "1     2      NES  1985.0      Platform     29.08      3.58      6.81   \n",
       "2     3      Wii  2008.0        Racing     15.85     12.88      3.79   \n",
       "3     4      Wii  2009.0        Sports     15.75     11.01      3.28   \n",
       "4     5       GB  1996.0  Role-Playing     11.27      8.89     10.22   \n",
       "\n",
       "   other_sales  global_sales  \n",
       "0         8.46         82.74  \n",
       "1         0.77         40.24  \n",
       "2         3.31         35.82  \n",
       "3         2.96         33.00  \n",
       "4         1.00         31.37  "
      ]
     },
     "execution_count": 8,
     "metadata": {},
     "output_type": "execute_result"
    }
   ],
   "source": [
    "data.head()"
   ]
  },
  {
   "cell_type": "markdown",
   "id": "06c3b7de",
   "metadata": {
    "papermill": {
     "duration": 0.005218,
     "end_time": "2025-10-22T15:25:05.794368",
     "exception": false,
     "start_time": "2025-10-22T15:25:05.789150",
     "status": "completed"
    },
    "tags": []
   },
   "source": [
    "## 1.3 Raw Data Visualization\n",
    "Testing with raw data visualization"
   ]
  },
  {
   "cell_type": "code",
   "execution_count": 9,
   "id": "2201b508",
   "metadata": {
    "execution": {
     "iopub.execute_input": "2025-10-22T15:25:05.806459Z",
     "iopub.status.busy": "2025-10-22T15:25:05.806118Z",
     "iopub.status.idle": "2025-10-22T15:25:06.111535Z",
     "shell.execute_reply": "2025-10-22T15:25:06.110330Z"
    },
    "papermill": {
     "duration": 0.313358,
     "end_time": "2025-10-22T15:25:06.113117",
     "exception": false,
     "start_time": "2025-10-22T15:25:05.799759",
     "status": "completed"
    },
    "tags": []
   },
   "outputs": [
    {
     "data": {
      "image/png": "[encoded data removed]",
      "text/plain": [
       "<Figure size 600x400 with 1 Axes>"
      ]
     },
     "metadata": {},
     "output_type": "display_data"
    }
   ],
   "source": [
    "plt.figure(figsize=(6,4))\n",
    "sns.kdeplot(data['year'], color= 'r')\n",
    "plt.title('Years of Games Released')\n",
    "plt.show()"
   ]
  },
  {
   "cell_type": "code",
   "execution_count": 10,
   "id": "c4059483",
   "metadata": {
    "execution": {
     "iopub.execute_input": "2025-10-22T15:25:06.126725Z",
     "iopub.status.busy": "2025-10-22T15:25:06.126357Z",
     "iopub.status.idle": "2025-10-22T15:25:06.134755Z",
     "shell.execute_reply": "2025-10-22T15:25:06.133845Z"
    },
    "papermill": {
     "duration": 0.017061,
     "end_time": "2025-10-22T15:25:06.136345",
     "exception": false,
     "start_time": "2025-10-22T15:25:06.119284",
     "status": "completed"
    },
    "tags": []
   },
   "outputs": [
    {
     "name": "stdout",
     "output_type": "stream",
     "text": [
      "Top Platforms in the Top 100 Best-Selling Games:\n",
      "platform\n",
      "X360    16\n",
      "Wii     15\n",
      "DS      13\n",
      "PS3      9\n",
      "3DS      7\n",
      "GB       6\n",
      "PS2      6\n",
      "PS       5\n",
      "PS4      5\n",
      "SNES     4\n",
      "NES      4\n",
      "N64      4\n",
      "GBA      2\n",
      "XB       1\n",
      "PC       1\n",
      "2600     1\n",
      "PSP      1\n",
      "Name: count, dtype: int64\n"
     ]
    }
   ],
   "source": [
    "# sort the dataset by global_sales in descending order and select the top 100 rows\n",
    "\n",
    "top100 = data.sort_values(\"global_sales\", ascending=False).head(100)\n",
    "\n",
    "# count the number of games per platform\n",
    "platform_counts = top100[\"platform\"].value_counts()\n",
    "\n",
    "print(\"Top Platforms in the Top 100 Best-Selling Games:\")\n",
    "print(platform_counts)"
   ]
  },
  {
   "cell_type": "code",
   "execution_count": 11,
   "id": "e8a28f76",
   "metadata": {
    "execution": {
     "iopub.execute_input": "2025-10-22T15:25:06.149824Z",
     "iopub.status.busy": "2025-10-22T15:25:06.149478Z",
     "iopub.status.idle": "2025-10-22T15:25:06.479300Z",
     "shell.execute_reply": "2025-10-22T15:25:06.478292Z"
    },
    "papermill": {
     "duration": 0.338309,
     "end_time": "2025-10-22T15:25:06.480858",
     "exception": false,
     "start_time": "2025-10-22T15:25:06.142549",
     "status": "completed"
    },
    "tags": []
   },
   "outputs": [
    {
     "data": {
      "image/png": "[encoded data removed]",
      "text/plain": [
       "<Figure size 1000x600 with 1 Axes>"
      ]
     },
     "metadata": {},
     "output_type": "display_data"
    }
   ],
   "source": [
    "# Plot\n",
    "plt.figure(figsize=(10, 6))\n",
    "platform_counts.plot(kind='bar', color='teal')\n",
    "plt.title(\"Total Platforms in the Top 100\")\n",
    "plt.xlabel(\"Genre\")\n",
    "plt.ylabel(\"Global Sales (millions)\")\n",
    "plt.xticks(rotation=45)\n",
    "plt.tight_layout()\n",
    "plt.show()"
   ]
  },
  {
   "cell_type": "code",
   "execution_count": 12,
   "id": "8d5bd6aa",
   "metadata": {
    "execution": {
     "iopub.execute_input": "2025-10-22T15:25:06.496035Z",
     "iopub.status.busy": "2025-10-22T15:25:06.495663Z",
     "iopub.status.idle": "2025-10-22T15:25:06.872725Z",
     "shell.execute_reply": "2025-10-22T15:25:06.871696Z"
    },
    "papermill": {
     "duration": 0.386803,
     "end_time": "2025-10-22T15:25:06.874532",
     "exception": false,
     "start_time": "2025-10-22T15:25:06.487729",
     "status": "completed"
    },
    "tags": []
   },
   "outputs": [
    {
     "data": {
      "image/png": "[encoded data removed]",
      "text/plain": [
       "<Figure size 1600x600 with 1 Axes>"
      ]
     },
     "metadata": {},
     "output_type": "display_data"
    }
   ],
   "source": [
    "# Group and sum relevant sales\n",
    "genre_sales = data.groupby(\"genre\")[[\"global_sales\", \"na_sales\", \"eu_sales\", \"jp_sales\"]].sum()\n",
    "\n",
    "# Sort by global sales\n",
    "genre_sales = genre_sales.sort_values(\"global_sales\", ascending=False)\n",
    "\n",
    "# Plot setup\n",
    "plt.figure(figsize=(16, 6))\n",
    "x = range(len(genre_sales))\n",
    "bar_width = 0.2\n",
    "\n",
    "# Bars for each region\n",
    "plt.bar(x, genre_sales[\"global_sales\"], width=bar_width, label=\"Global\", color=\"mediumseagreen\")\n",
    "plt.bar([i + bar_width for i in x], genre_sales[\"na_sales\"], width=bar_width, label=\"NA\", color=\"cornflowerblue\")\n",
    "plt.bar([i + 2 * bar_width for i in x], genre_sales[\"eu_sales\"], width=bar_width, label=\"EU\", color=\"goldenrod\")\n",
    "plt.bar([i + 3 * bar_width for i in x], genre_sales[\"jp_sales\"], width=bar_width, label=\"JP\", color=\"orchid\")\n",
    "\n",
    "# Labels and formatting\n",
    "plt.xlabel(\"Genre\")\n",
    "plt.ylabel(\"Sales (millions)\")\n",
    "plt.title(\"Sales by Genre: Global vs NA vs EU vs JP\")\n",
    "plt.xticks([i + 1.5 * bar_width for i in x], genre_sales.index, rotation=45)\n",
    "plt.legend()\n",
    "plt.tight_layout()\n",
    "plt.show()"
   ]
  },
  {
   "cell_type": "markdown",
   "id": "5d597cc5",
   "metadata": {
    "papermill": {
     "duration": 0.007455,
     "end_time": "2025-10-22T15:25:06.890180",
     "exception": false,
     "start_time": "2025-10-22T15:25:06.882725",
     "status": "completed"
    },
    "tags": []
   },
   "source": [
    "## 1.4 Algorithm Implementation"
   ]
  },
  {
   "cell_type": "code",
   "execution_count": 13,
   "id": "d350d10d",
   "metadata": {
    "execution": {
     "iopub.execute_input": "2025-10-22T15:25:06.908739Z",
     "iopub.status.busy": "2025-10-22T15:25:06.908431Z",
     "iopub.status.idle": "2025-10-22T15:25:06.914185Z",
     "shell.execute_reply": "2025-10-22T15:25:06.913241Z"
    },
    "papermill": {
     "duration": 0.016024,
     "end_time": "2025-10-22T15:25:06.915750",
     "exception": false,
     "start_time": "2025-10-22T15:25:06.899726",
     "status": "completed"
    },
    "tags": []
   },
   "outputs": [],
   "source": [
    "# Data cleaning again.\n",
    "data = data.drop(['platform', 'genre'], axis = 1)"
   ]
  },
  {
   "cell_type": "code",
   "execution_count": 14,
   "id": "037916b3",
   "metadata": {
    "execution": {
     "iopub.execute_input": "2025-10-22T15:25:06.932424Z",
     "iopub.status.busy": "2025-10-22T15:25:06.932092Z",
     "iopub.status.idle": "2025-10-22T15:25:06.938069Z",
     "shell.execute_reply": "2025-10-22T15:25:06.936875Z"
    },
    "papermill": {
     "duration": 0.016232,
     "end_time": "2025-10-22T15:25:06.939868",
     "exception": false,
     "start_time": "2025-10-22T15:25:06.923636",
     "status": "completed"
    },
    "tags": []
   },
   "outputs": [],
   "source": [
    "# Feature Selection.\n",
    "x = data[['year']] # Feature\n",
    "y = data['global_sales'] # Target"
   ]
  },
  {
   "cell_type": "code",
   "execution_count": 15,
   "id": "98dc675b",
   "metadata": {
    "execution": {
     "iopub.execute_input": "2025-10-22T15:25:06.956648Z",
     "iopub.status.busy": "2025-10-22T15:25:06.956298Z",
     "iopub.status.idle": "2025-10-22T15:25:06.962830Z",
     "shell.execute_reply": "2025-10-22T15:25:06.961951Z"
    },
    "papermill": {
     "duration": 0.016398,
     "end_time": "2025-10-22T15:25:06.964352",
     "exception": false,
     "start_time": "2025-10-22T15:25:06.947954",
     "status": "completed"
    },
    "tags": []
   },
   "outputs": [],
   "source": [
    "x_train, x_test, y_train, y_test = train_test_split(x, y, train_size = 0.8, test_size=0.2)"
   ]
  },
  {
   "cell_type": "code",
   "execution_count": 16,
   "id": "9b5e8906",
   "metadata": {
    "execution": {
     "iopub.execute_input": "2025-10-22T15:25:06.981057Z",
     "iopub.status.busy": "2025-10-22T15:25:06.980733Z",
     "iopub.status.idle": "2025-10-22T15:25:06.991338Z",
     "shell.execute_reply": "2025-10-22T15:25:06.990505Z"
    },
    "papermill": {
     "duration": 0.020692,
     "end_time": "2025-10-22T15:25:06.992728",
     "exception": false,
     "start_time": "2025-10-22T15:25:06.972036",
     "status": "completed"
    },
    "tags": []
   },
   "outputs": [
    {
     "data": {
      "text/html": [
       "<div>\n",
       "<style scoped>\n",
       "    .dataframe tbody tr th:only-of-type {\n",
       "        vertical-align: middle;\n",
       "    }\n",
       "\n",
       "    .dataframe tbody tr th {\n",
       "        vertical-align: top;\n",
       "    }\n",
       "\n",
       "    .dataframe thead th {\n",
       "        text-align: right;\n",
       "    }\n",
       "</style>\n",
       "<table border=\"1\" class=\"dataframe\">\n",
       "  <thead>\n",
       "    <tr style=\"text-align: right;\">\n",
       "      <th></th>\n",
       "      <th>year</th>\n",
       "    </tr>\n",
       "  </thead>\n",
       "  <tbody>\n",
       "    <tr>\n",
       "      <th>215</th>\n",
       "      <td>1990.0</td>\n",
       "    </tr>\n",
       "    <tr>\n",
       "      <th>972</th>\n",
       "      <td>2006.0</td>\n",
       "    </tr>\n",
       "    <tr>\n",
       "      <th>44</th>\n",
       "      <td>2014.0</td>\n",
       "    </tr>\n",
       "    <tr>\n",
       "      <th>312</th>\n",
       "      <td>1988.0</td>\n",
       "    </tr>\n",
       "    <tr>\n",
       "      <th>150</th>\n",
       "      <td>2007.0</td>\n",
       "    </tr>\n",
       "    <tr>\n",
       "      <th>...</th>\n",
       "      <td>...</td>\n",
       "    </tr>\n",
       "    <tr>\n",
       "      <th>770</th>\n",
       "      <td>2016.0</td>\n",
       "    </tr>\n",
       "    <tr>\n",
       "      <th>410</th>\n",
       "      <td>2014.0</td>\n",
       "    </tr>\n",
       "    <tr>\n",
       "      <th>214</th>\n",
       "      <td>2010.0</td>\n",
       "    </tr>\n",
       "    <tr>\n",
       "      <th>450</th>\n",
       "      <td>2002.0</td>\n",
       "    </tr>\n",
       "    <tr>\n",
       "      <th>963</th>\n",
       "      <td>2002.0</td>\n",
       "    </tr>\n",
       "  </tbody>\n",
       "</table>\n",
       "<p>198 rows × 1 columns</p>\n",
       "</div>"
      ],
      "text/plain": [
       "       year\n",
       "215  1990.0\n",
       "972  2006.0\n",
       "44   2014.0\n",
       "312  1988.0\n",
       "150  2007.0\n",
       "..      ...\n",
       "770  2016.0\n",
       "410  2014.0\n",
       "214  2010.0\n",
       "450  2002.0\n",
       "963  2002.0\n",
       "\n",
       "[198 rows x 1 columns]"
      ]
     },
     "execution_count": 16,
     "metadata": {},
     "output_type": "execute_result"
    }
   ],
   "source": [
    "x_test"
   ]
  },
  {
   "cell_type": "code",
   "execution_count": 17,
   "id": "6579b422",
   "metadata": {
    "execution": {
     "iopub.execute_input": "2025-10-22T15:25:07.009939Z",
     "iopub.status.busy": "2025-10-22T15:25:07.009531Z",
     "iopub.status.idle": "2025-10-22T15:25:07.017491Z",
     "shell.execute_reply": "2025-10-22T15:25:07.016551Z"
    },
    "papermill": {
     "duration": 0.018494,
     "end_time": "2025-10-22T15:25:07.019134",
     "exception": false,
     "start_time": "2025-10-22T15:25:07.000640",
     "status": "completed"
    },
    "tags": []
   },
   "outputs": [
    {
     "data": {
      "text/plain": [
       "215     4.85\n",
       "972     1.78\n",
       "44     11.98\n",
       "312     3.87\n",
       "150     5.83\n",
       "       ...  \n",
       "770     2.13\n",
       "410     3.28\n",
       "214     4.87\n",
       "450     3.09\n",
       "963     1.80\n",
       "Name: global_sales, Length: 198, dtype: float64"
      ]
     },
     "execution_count": 17,
     "metadata": {},
     "output_type": "execute_result"
    }
   ],
   "source": [
    "y_test"
   ]
  },
  {
   "cell_type": "code",
   "execution_count": 18,
   "id": "d003b21a",
   "metadata": {
    "execution": {
     "iopub.execute_input": "2025-10-22T15:25:07.037791Z",
     "iopub.status.busy": "2025-10-22T15:25:07.037437Z",
     "iopub.status.idle": "2025-10-22T15:25:07.071204Z",
     "shell.execute_reply": "2025-10-22T15:25:07.069986Z"
    },
    "papermill": {
     "duration": 0.045183,
     "end_time": "2025-10-22T15:25:07.072845",
     "exception": false,
     "start_time": "2025-10-22T15:25:07.027662",
     "status": "completed"
    },
    "tags": []
   },
   "outputs": [
    {
     "data": {
      "text/html": [
       "<style>#sk-container-id-1 {color: black;background-color: white;}#sk-container-id-1 pre{padding: 0;}#sk-container-id-1 div.sk-toggleable {background-color: white;}#sk-container-id-1 label.sk-toggleable__label {cursor: pointer;display: block;width: 100%;margin-bottom: 0;padding: 0.3em;box-sizing: border-box;text-align: center;}#sk-container-id-1 label.sk-toggleable__label-arrow:before {content: \"▸\";float: left;margin-right: 0.25em;color: #696969;}#sk-container-id-1 label.sk-toggleable__label-arrow:hover:before {color: black;}#sk-container-id-1 div.sk-estimator:hover label.sk-toggleable__label-arrow:before {color: black;}#sk-container-id-1 div.sk-toggleable__content {max-height: 0;max-width: 0;overflow: hidden;text-align: left;background-color: #f0f8ff;}#sk-container-id-1 div.sk-toggleable__content pre {margin: 0.2em;color: black;border-radius: 0.25em;background-color: #f0f8ff;}#sk-container-id-1 input.sk-toggleable__control:checked~div.sk-toggleable__content {max-height: 200px;max-width: 100%;overflow: auto;}#sk-container-id-1 input.sk-toggleable__control:checked~label.sk-toggleable__label-arrow:before {content: \"▾\";}#sk-container-id-1 div.sk-estimator input.sk-toggleable__control:checked~label.sk-toggleable__label {background-color: #d4ebff;}#sk-container-id-1 div.sk-label input.sk-toggleable__control:checked~label.sk-toggleable__label {background-color: #d4ebff;}#sk-container-id-1 input.sk-hidden--visually {border: 0;clip: rect(1px 1px 1px 1px);clip: rect(1px, 1px, 1px, 1px);height: 1px;margin: -1px;overflow: hidden;padding: 0;position: absolute;width: 1px;}#sk-container-id-1 div.sk-estimator {font-family: monospace;background-color: #f0f8ff;border: 1px dotted black;border-radius: 0.25em;box-sizing: border-box;margin-bottom: 0.5em;}#sk-container-id-1 div.sk-estimator:hover {background-color: #d4ebff;}#sk-container-id-1 div.sk-parallel-item::after {content: \"\";width: 100%;border-bottom: 1px solid gray;flex-grow: 1;}#sk-container-id-1 div.sk-label:hover label.sk-toggleable__label {background-color: #d4ebff;}#sk-container-id-1 div.sk-serial::before {content: \"\";position: absolute;border-left: 1px solid gray;box-sizing: border-box;top: 0;bottom: 0;left: 50%;z-index: 0;}#sk-container-id-1 div.sk-serial {display: flex;flex-direction: column;align-items: center;background-color: white;padding-right: 0.2em;padding-left: 0.2em;position: relative;}#sk-container-id-1 div.sk-item {position: relative;z-index: 1;}#sk-container-id-1 div.sk-parallel {display: flex;align-items: stretch;justify-content: center;background-color: white;position: relative;}#sk-container-id-1 div.sk-item::before, #sk-container-id-1 div.sk-parallel-item::before {content: \"\";position: absolute;border-left: 1px solid gray;box-sizing: border-box;top: 0;bottom: 0;left: 50%;z-index: -1;}#sk-container-id-1 div.sk-parallel-item {display: flex;flex-direction: column;z-index: 1;position: relative;background-color: white;}#sk-container-id-1 div.sk-parallel-item:first-child::after {align-self: flex-end;width: 50%;}#sk-container-id-1 div.sk-parallel-item:last-child::after {align-self: flex-start;width: 50%;}#sk-container-id-1 div.sk-parallel-item:only-child::after {width: 0;}#sk-container-id-1 div.sk-dashed-wrapped {border: 1px dashed gray;margin: 0 0.4em 0.5em 0.4em;box-sizing: border-box;padding-bottom: 0.4em;background-color: white;}#sk-container-id-1 div.sk-label label {font-family: monospace;font-weight: bold;display: inline-block;line-height: 1.2em;}#sk-container-id-1 div.sk-label-container {text-align: center;}#sk-container-id-1 div.sk-container {/* jupyter's `normalize.less` sets `[hidden] { display: none; }` but bootstrap.min.css set `[hidden] { display: none !important; }` so we also need the `!important` here to be able to override the default hidden behavior on the sphinx rendered scikit-learn.org. See: https://github.com/scikit-learn/scikit-learn/issues/21755 */display: inline-block !important;position: relative;}#sk-container-id-1 div.sk-text-repr-fallback {display: none;}</style><div id=\"sk-container-id-1\" class=\"sk-top-container\"><div class=\"sk-text-repr-fallback\"><pre>LinearRegression()</pre><b>In a Jupyter environment, please rerun this cell to show the HTML representation or trust the notebook. <br />On GitHub, the HTML representation is unable to render, please try loading this page with nbviewer.org.</b></div><div class=\"sk-container\" hidden><div class=\"sk-item\"><div class=\"sk-estimator sk-toggleable\"><input class=\"sk-toggleable__control sk-hidden--visually\" id=\"sk-estimator-id-1\" type=\"checkbox\" checked><label for=\"sk-estimator-id-1\" class=\"sk-toggleable__label sk-toggleable__label-arrow\">LinearRegression</label><div class=\"sk-toggleable__content\"><pre>LinearRegression()</pre></div></div></div></div></div>"
      ],
      "text/plain": [
       "LinearRegression()"
      ]
     },
     "execution_count": 18,
     "metadata": {},
     "output_type": "execute_result"
    }
   ],
   "source": [
    "# Model Training with Linear Regression.\n",
    "model = LinearRegression()\n",
    "model.fit(x_train, y_train)"
   ]
  },
  {
   "cell_type": "code",
   "execution_count": 19,
   "id": "67a7b84a",
   "metadata": {
    "execution": {
     "iopub.execute_input": "2025-10-22T15:25:07.090821Z",
     "iopub.status.busy": "2025-10-22T15:25:07.090511Z",
     "iopub.status.idle": "2025-10-22T15:25:07.099128Z",
     "shell.execute_reply": "2025-10-22T15:25:07.098222Z"
    },
    "papermill": {
     "duration": 0.01899,
     "end_time": "2025-10-22T15:25:07.100688",
     "exception": false,
     "start_time": "2025-10-22T15:25:07.081698",
     "status": "completed"
    },
    "tags": []
   },
   "outputs": [
    {
     "data": {
      "text/plain": [
       "array([4.2610639 , 4.24285532, 4.23375103, 4.26333997, 4.24171729,\n",
       "       4.23716514, 4.24171729, 4.23944121, 4.2485455 , 4.24285532,\n",
       "       4.24171729, 4.25082157, 4.24968354, 4.2610639 , 4.24513139,\n",
       "       4.24740747, 4.23716514, 4.24740747, 4.26675408, 4.24740747,\n",
       "       4.23944121, 4.26333997, 4.24285532, 4.24740747, 4.24626943,\n",
       "       4.23375103, 4.23944121, 4.23716514, 4.24626943, 4.24513139,\n",
       "       4.25651175, 4.23944121, 4.25195961, 4.23830318, 4.24626943,\n",
       "       4.23944121, 4.27244426, 4.23375103, 4.23716514, 4.25082157,\n",
       "       4.25764979, 4.24626943, 4.24057925, 4.24626943, 4.24171729,\n",
       "       4.25309765, 4.25992586, 4.24171729, 4.25195961, 4.2610639 ,\n",
       "       4.24740747, 4.26789211, 4.24513139, 4.23716514, 4.2485455 ,\n",
       "       4.24057925, 4.24057925, 4.24171729, 4.24057925, 4.24171729,\n",
       "       4.24513139, 4.24057925, 4.2485455 , 4.26333997, 4.23944121,\n",
       "       4.24740747, 4.23602711, 4.23830318, 4.25878783, 4.25651175,\n",
       "       4.24740747, 4.24968354, 4.24399336, 4.24285532, 4.25195961,\n",
       "       4.25764979, 4.24740747, 4.23944121, 4.24968354, 4.23488907,\n",
       "       4.24171729, 4.24171729, 4.24626943, 4.25082157, 4.2485455 ,\n",
       "       4.24057925, 4.25309765, 4.25195961, 4.24968354, 4.24513139,\n",
       "       4.24513139, 4.232613  , 4.23944121, 4.25309765, 4.2485455 ,\n",
       "       4.25423568, 4.24057925, 4.26675408, 4.24513139, 4.24285532,\n",
       "       4.24740747, 4.23488907, 4.24285532, 4.25195961, 4.24626943,\n",
       "       4.23944121, 4.25423568, 4.232613  , 4.24171729, 4.23830318,\n",
       "       4.2485455 , 4.23716514, 4.26561604, 4.24626943, 4.24285532,\n",
       "       4.24399336, 4.25082157, 4.25537372, 4.24285532, 4.24513139,\n",
       "       4.24740747, 4.2610639 , 4.23944121, 4.24399336, 4.23716514,\n",
       "       4.25082157, 4.23830318, 4.23716514, 4.25082157, 4.26333997,\n",
       "       4.23830318, 4.25423568, 4.24513139, 4.24171729, 4.24171729,\n",
       "       4.232613  , 4.25309765, 4.26561604, 4.24626943, 4.23830318,\n",
       "       4.232613  , 4.23716514, 4.23488907, 4.25309765, 4.23375103,\n",
       "       4.25309765, 4.24968354, 4.23375103, 4.23488907, 4.24513139,\n",
       "       4.25309765, 4.26220193, 4.23944121, 4.23830318, 4.24171729,\n",
       "       4.25082157, 4.24968354, 4.23944121, 4.23375103, 4.23944121,\n",
       "       4.24057925, 4.23488907, 4.24057925, 4.24740747, 4.23488907,\n",
       "       4.24626943, 4.23830318, 4.24171729, 4.23375103, 4.25537372,\n",
       "       4.26447801, 4.24057925, 4.23602711, 4.25537372, 4.23488907,\n",
       "       4.23716514, 4.24399336, 4.23602711, 4.25423568, 4.2485455 ,\n",
       "       4.23375103, 4.26333997, 4.2485455 , 4.26333997, 4.2485455 ,\n",
       "       4.2485455 , 4.23830318, 4.23147496, 4.23602711, 4.24968354,\n",
       "       4.23488907, 4.24057925, 4.25423568, 4.23147496, 4.23375103,\n",
       "       4.23830318, 4.24740747, 4.24740747])"
      ]
     },
     "execution_count": 19,
     "metadata": {},
     "output_type": "execute_result"
    }
   ],
   "source": [
    "y_pred = model.predict(x_test)\n",
    "y_pred"
   ]
  },
  {
   "cell_type": "code",
   "execution_count": 20,
   "id": "7e8f8389",
   "metadata": {
    "execution": {
     "iopub.execute_input": "2025-10-22T15:25:07.118324Z",
     "iopub.status.busy": "2025-10-22T15:25:07.118000Z",
     "iopub.status.idle": "2025-10-22T15:25:07.372560Z",
     "shell.execute_reply": "2025-10-22T15:25:07.371556Z"
    },
    "papermill": {
     "duration": 0.265285,
     "end_time": "2025-10-22T15:25:07.374169",
     "exception": false,
     "start_time": "2025-10-22T15:25:07.108884",
     "status": "completed"
    },
    "tags": []
   },
   "outputs": [
    {
     "data": {
      "image/png": "[encoded data removed]",
      "text/plain": [
       "<Figure size 640x480 with 1 Axes>"
      ]
     },
     "metadata": {},
     "output_type": "display_data"
    },
    {
     "name": "stdout",
     "output_type": "stream",
     "text": [
      "Mean Squared Error: 20.46\n",
      "R² Score: -0.00\n"
     ]
    }
   ],
   "source": [
    "# Scatter plot for actual vs predicted\n",
    "plt.scatter(x_test, y_test, color='red', label='Actual Test Data', alpha=0.5)\n",
    "plt.scatter(x_test, y_pred, color='green', label='Predicted Data', alpha=0.5)\n",
    "plt.xlabel('Years')\n",
    "plt.ylabel('Global Sales')\n",
    "plt.title('Actual vs Predicted Global Sales')\n",
    "plt.legend()\n",
    "plt.show()\n",
    "\n",
    "# Evaluate model\n",
    "mse = mean_squared_error(y_test, y_pred)\n",
    "r2 = r2_score(y_test, y_pred)\n",
    "print(f'Mean Squared Error: {mse:.2f}')\n",
    "print(f'R² Score: {r2:.2f}')"
   ]
  }
 ],
 "metadata": {
  "kaggle": {
   "accelerator": "none",
   "dataSources": [
    {
     "datasetId": 1847235,
     "sourceId": 3015803,
     "sourceType": "datasetVersion"
    },
    {
     "datasetId": 2954789,
     "sourceId": 5088467,
     "sourceType": "datasetVersion"
    }
   ],
   "dockerImageVersionId": 31153,
   "isGpuEnabled": false,
   "isInternetEnabled": false,
   "language": "python",
   "sourceType": "notebook"
  },
  "kernelspec": {
   "display_name": "Python 3",
   "language": "python",
   "name": "python3"
  },
  "language_info": {
   "codemirror_mode": {
    "name": "ipython",
    "version": 3
   },
   "file_extension": ".py",
   "mimetype": "text/x-python",
   "name": "python",
   "nbconvert_exporter": "python",
   "pygments_lexer": "ipython3",
   "version": "3.11.13"
  },
  "papermill": {
   "default_parameters": {},
   "duration": 11.70054,
   "end_time": "2025-10-22T15:25:08.104657",
   "environment_variables": {},
   "exception": null,
   "input_path": "__notebook__.ipynb",
   "output_path": "__notebook__.ipynb",
   "parameters": {},
   "start_time": "2025-10-22T15:24:56.404117",
   "version": "2.6.0"
  }
 },
 "nbformat": 4,
 "nbformat_minor": 5
}
